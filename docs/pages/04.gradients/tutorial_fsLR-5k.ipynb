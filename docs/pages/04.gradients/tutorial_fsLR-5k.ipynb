{
 "cells": [
  {
   "cell_type": "markdown",
   "id": "9158c01e",
   "metadata": {},
   "source": [
    "# `fsLR-5k` connectomes and gradients\n",
    "\n",
    "### Set the environment"
   ]
  },
  {
   "cell_type": "code",
   "execution_count": 5,
   "id": "f36fc938",
   "metadata": {},
   "outputs": [],
   "source": [
    "# Set the environment\n",
    "import os\n",
    "import numpy as np\n",
    "import nibabel as nib\n",
    "from brainspace.plotting import plot_hemispheres\n",
    "from brainspace.mesh.mesh_io import read_surface\n",
    "from brainspace.datasets import load_conte69\n",
    "from brainspace.gradient import GradientMaps\n",
    "from brainspace.utils.parcellation import map_to_labels\n",
    "import matplotlib.pyplot as plt\n",
    "\n",
    "# Set the working directory to the 'out' directory\n",
    "out='/data_/mica3/BIDS_MICs/derivatives'\n",
    "os.chdir(out)     # <<<<<<<<<<<< CHANGE THIS PATH\n",
    "\n",
    "# This variable will be different for each subject\n",
    "sub='HC001' # <<<<<<<<<<<< CHANGE THIS SUBJECT's ID\n",
    "ses='01'    # <<<<<<<<<<<< CHANGE THIS SUBJECT's SESSION\n",
    "subjectID=f'sub-{sub}_ses-{ses}'           \n",
    "subjectDir=f'micapipe_v0.2.0/sub-{sub}/ses-{ses}' \n",
    "\n",
    "# Here we define the atlas \n",
    "atlas='schaefer-400' # <<<<<<<<<<<< CHANGE THIS ATLAS\n",
    "\n",
    "# Path to MICAPIPE from global enviroment\n",
    "micapipe=os.popen(\"echo $MICAPIPE\").read()[:-1] # <<<<<<<<<<<< CHANGE THIS PATH"
   ]
  },
  {
   "cell_type": "markdown",
   "id": "f1dc9ece",
   "metadata": {},
   "source": [
    "### Load the surfaces"
   ]
  },
  {
   "cell_type": "code",
   "execution_count": 3,
   "id": "746313a8",
   "metadata": {},
   "outputs": [],
   "source": [
    "# Load fsLR-5k\n",
    "\n",
    "\n",
    "# Load fsaverage5\n",
    "fs5_lh = read_surface('freesurfer/fsaverage5/surf/lh.pial', itype='fs')\n",
    "fs5_rh = read_surface('freesurfer/fsaverage5/surf/rh.pial', itype='fs')\n",
    "\n",
    "# Load annotation file in fsaverage5\n",
    "annot_lh_fs5= nib.freesurfer.read_annot(micapipe + '/parcellations/lh.'+atlas+'_mics.annot')\n",
    "Ndim = max(np.unique(annot_lh_fs5[0]))\n",
    "annot_rh_fs5= nib.freesurfer.read_annot(micapipe + '/parcellations/rh.'+atlas+'_mics.annot')[0]+Ndim\n",
    "\n",
    "# replace with 0 the medial wall of the right labels\n",
    "annot_rh_fs5 = np.where(annot_rh_fs5==Ndim, 0, annot_rh_fs5) \n",
    "\n",
    "# fsaverage5 labels\n",
    "labels_fs5 = np.concatenate((annot_lh_fs5[0], annot_rh_fs5), axis=0)\n",
    "\n",
    "# Read label for fsLR-32k\n",
    "labels_f32k = np.loadtxt(open(f'{micapipe}/parcellations/{atlas}_conte69.csv'), dtype=int)\n"
   ]
  },
  {
   "cell_type": "code",
   "execution_count": null,
   "id": "d5ee22a9",
   "metadata": {},
   "outputs": [],
   "source": []
  }
 ],
 "metadata": {
  "kernelspec": {
   "display_name": "Python 3 (ipykernel)",
   "language": "python",
   "name": "python3"
  },
  "language_info": {
   "codemirror_mode": {
    "name": "ipython",
    "version": 3
   },
   "file_extension": ".py",
   "mimetype": "text/x-python",
   "name": "python",
   "nbconvert_exporter": "python",
   "pygments_lexer": "ipython3",
   "version": "3.9.13"
  }
 },
 "nbformat": 4,
 "nbformat_minor": 5
}
